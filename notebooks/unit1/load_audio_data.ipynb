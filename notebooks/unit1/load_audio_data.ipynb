{
  "nbformat": 4,
  "nbformat_minor": 0,
  "metadata": {
    "colab": {
      "provenance": [],
      "authorship_tag": "ABX9TyOBHbqUiz5WcydTjud+X2C8",
      "include_colab_link": true
    },
    "kernelspec": {
      "name": "python3",
      "display_name": "Python 3"
    },
    "language_info": {
      "name": "python"
    },
    "widgets": {
      "application/vnd.jupyter.widget-state+json": {
        "cb794911c6bf4322b63bdb27f9a285fe": {
          "model_module": "@jupyter-widgets/controls",
          "model_name": "HBoxModel",
          "model_module_version": "1.5.0",
          "state": {
            "_dom_classes": [],
            "_model_module": "@jupyter-widgets/controls",
            "_model_module_version": "1.5.0",
            "_model_name": "HBoxModel",
            "_view_count": null,
            "_view_module": "@jupyter-widgets/controls",
            "_view_module_version": "1.5.0",
            "_view_name": "HBoxView",
            "box_style": "",
            "children": [
              "IPY_MODEL_4ecd1890627e44b89478f6153c1df7c8",
              "IPY_MODEL_f115e4a6e44848cdb1c00262dff10966",
              "IPY_MODEL_87e892a5d3d7429a8dfc091b46ac0021"
            ],
            "layout": "IPY_MODEL_711d42f284fc4af99abc0c4ba253e520"
          }
        },
        "4ecd1890627e44b89478f6153c1df7c8": {
          "model_module": "@jupyter-widgets/controls",
          "model_name": "HTMLModel",
          "model_module_version": "1.5.0",
          "state": {
            "_dom_classes": [],
            "_model_module": "@jupyter-widgets/controls",
            "_model_module_version": "1.5.0",
            "_model_name": "HTMLModel",
            "_view_count": null,
            "_view_module": "@jupyter-widgets/controls",
            "_view_module_version": "1.5.0",
            "_view_name": "HTMLView",
            "description": "",
            "description_tooltip": null,
            "layout": "IPY_MODEL_d3ee05d56be04ef0bd4e1ca20de522f7",
            "placeholder": "​",
            "style": "IPY_MODEL_42830c0533cb4fccb19d84e49449b632",
            "value": "Generating train split: "
          }
        },
        "f115e4a6e44848cdb1c00262dff10966": {
          "model_module": "@jupyter-widgets/controls",
          "model_name": "FloatProgressModel",
          "model_module_version": "1.5.0",
          "state": {
            "_dom_classes": [],
            "_model_module": "@jupyter-widgets/controls",
            "_model_module_version": "1.5.0",
            "_model_name": "FloatProgressModel",
            "_view_count": null,
            "_view_module": "@jupyter-widgets/controls",
            "_view_module_version": "1.5.0",
            "_view_name": "ProgressView",
            "bar_style": "info",
            "description": "",
            "description_tooltip": null,
            "layout": "IPY_MODEL_af503b24dbae48a68ae0ac7e592288c6",
            "max": 1,
            "min": 0,
            "orientation": "horizontal",
            "style": "IPY_MODEL_8a5a50f94cf7460c9ccd4e7345e672e4",
            "value": 1
          }
        },
        "87e892a5d3d7429a8dfc091b46ac0021": {
          "model_module": "@jupyter-widgets/controls",
          "model_name": "HTMLModel",
          "model_module_version": "1.5.0",
          "state": {
            "_dom_classes": [],
            "_model_module": "@jupyter-widgets/controls",
            "_model_module_version": "1.5.0",
            "_model_name": "HTMLModel",
            "_view_count": null,
            "_view_module": "@jupyter-widgets/controls",
            "_view_module_version": "1.5.0",
            "_view_name": "HTMLView",
            "description": "",
            "description_tooltip": null,
            "layout": "IPY_MODEL_ada66626e4654a9e9582b2d2ae9b1952",
            "placeholder": "​",
            "style": "IPY_MODEL_f0263d2e6592486b95aedcd6b9bbd912",
            "value": " 539/0 [00:00&lt;00:00, 5135.85 examples/s]"
          }
        },
        "711d42f284fc4af99abc0c4ba253e520": {
          "model_module": "@jupyter-widgets/base",
          "model_name": "LayoutModel",
          "model_module_version": "1.2.0",
          "state": {
            "_model_module": "@jupyter-widgets/base",
            "_model_module_version": "1.2.0",
            "_model_name": "LayoutModel",
            "_view_count": null,
            "_view_module": "@jupyter-widgets/base",
            "_view_module_version": "1.2.0",
            "_view_name": "LayoutView",
            "align_content": null,
            "align_items": null,
            "align_self": null,
            "border": null,
            "bottom": null,
            "display": null,
            "flex": null,
            "flex_flow": null,
            "grid_area": null,
            "grid_auto_columns": null,
            "grid_auto_flow": null,
            "grid_auto_rows": null,
            "grid_column": null,
            "grid_gap": null,
            "grid_row": null,
            "grid_template_areas": null,
            "grid_template_columns": null,
            "grid_template_rows": null,
            "height": null,
            "justify_content": null,
            "justify_items": null,
            "left": null,
            "margin": null,
            "max_height": null,
            "max_width": null,
            "min_height": null,
            "min_width": null,
            "object_fit": null,
            "object_position": null,
            "order": null,
            "overflow": null,
            "overflow_x": null,
            "overflow_y": null,
            "padding": null,
            "right": null,
            "top": null,
            "visibility": "hidden",
            "width": null
          }
        },
        "d3ee05d56be04ef0bd4e1ca20de522f7": {
          "model_module": "@jupyter-widgets/base",
          "model_name": "LayoutModel",
          "model_module_version": "1.2.0",
          "state": {
            "_model_module": "@jupyter-widgets/base",
            "_model_module_version": "1.2.0",
            "_model_name": "LayoutModel",
            "_view_count": null,
            "_view_module": "@jupyter-widgets/base",
            "_view_module_version": "1.2.0",
            "_view_name": "LayoutView",
            "align_content": null,
            "align_items": null,
            "align_self": null,
            "border": null,
            "bottom": null,
            "display": null,
            "flex": null,
            "flex_flow": null,
            "grid_area": null,
            "grid_auto_columns": null,
            "grid_auto_flow": null,
            "grid_auto_rows": null,
            "grid_column": null,
            "grid_gap": null,
            "grid_row": null,
            "grid_template_areas": null,
            "grid_template_columns": null,
            "grid_template_rows": null,
            "height": null,
            "justify_content": null,
            "justify_items": null,
            "left": null,
            "margin": null,
            "max_height": null,
            "max_width": null,
            "min_height": null,
            "min_width": null,
            "object_fit": null,
            "object_position": null,
            "order": null,
            "overflow": null,
            "overflow_x": null,
            "overflow_y": null,
            "padding": null,
            "right": null,
            "top": null,
            "visibility": null,
            "width": null
          }
        },
        "42830c0533cb4fccb19d84e49449b632": {
          "model_module": "@jupyter-widgets/controls",
          "model_name": "DescriptionStyleModel",
          "model_module_version": "1.5.0",
          "state": {
            "_model_module": "@jupyter-widgets/controls",
            "_model_module_version": "1.5.0",
            "_model_name": "DescriptionStyleModel",
            "_view_count": null,
            "_view_module": "@jupyter-widgets/base",
            "_view_module_version": "1.2.0",
            "_view_name": "StyleView",
            "description_width": ""
          }
        },
        "af503b24dbae48a68ae0ac7e592288c6": {
          "model_module": "@jupyter-widgets/base",
          "model_name": "LayoutModel",
          "model_module_version": "1.2.0",
          "state": {
            "_model_module": "@jupyter-widgets/base",
            "_model_module_version": "1.2.0",
            "_model_name": "LayoutModel",
            "_view_count": null,
            "_view_module": "@jupyter-widgets/base",
            "_view_module_version": "1.2.0",
            "_view_name": "LayoutView",
            "align_content": null,
            "align_items": null,
            "align_self": null,
            "border": null,
            "bottom": null,
            "display": null,
            "flex": null,
            "flex_flow": null,
            "grid_area": null,
            "grid_auto_columns": null,
            "grid_auto_flow": null,
            "grid_auto_rows": null,
            "grid_column": null,
            "grid_gap": null,
            "grid_row": null,
            "grid_template_areas": null,
            "grid_template_columns": null,
            "grid_template_rows": null,
            "height": null,
            "justify_content": null,
            "justify_items": null,
            "left": null,
            "margin": null,
            "max_height": null,
            "max_width": null,
            "min_height": null,
            "min_width": null,
            "object_fit": null,
            "object_position": null,
            "order": null,
            "overflow": null,
            "overflow_x": null,
            "overflow_y": null,
            "padding": null,
            "right": null,
            "top": null,
            "visibility": null,
            "width": "20px"
          }
        },
        "8a5a50f94cf7460c9ccd4e7345e672e4": {
          "model_module": "@jupyter-widgets/controls",
          "model_name": "ProgressStyleModel",
          "model_module_version": "1.5.0",
          "state": {
            "_model_module": "@jupyter-widgets/controls",
            "_model_module_version": "1.5.0",
            "_model_name": "ProgressStyleModel",
            "_view_count": null,
            "_view_module": "@jupyter-widgets/base",
            "_view_module_version": "1.2.0",
            "_view_name": "StyleView",
            "bar_color": null,
            "description_width": ""
          }
        },
        "ada66626e4654a9e9582b2d2ae9b1952": {
          "model_module": "@jupyter-widgets/base",
          "model_name": "LayoutModel",
          "model_module_version": "1.2.0",
          "state": {
            "_model_module": "@jupyter-widgets/base",
            "_model_module_version": "1.2.0",
            "_model_name": "LayoutModel",
            "_view_count": null,
            "_view_module": "@jupyter-widgets/base",
            "_view_module_version": "1.2.0",
            "_view_name": "LayoutView",
            "align_content": null,
            "align_items": null,
            "align_self": null,
            "border": null,
            "bottom": null,
            "display": null,
            "flex": null,
            "flex_flow": null,
            "grid_area": null,
            "grid_auto_columns": null,
            "grid_auto_flow": null,
            "grid_auto_rows": null,
            "grid_column": null,
            "grid_gap": null,
            "grid_row": null,
            "grid_template_areas": null,
            "grid_template_columns": null,
            "grid_template_rows": null,
            "height": null,
            "justify_content": null,
            "justify_items": null,
            "left": null,
            "margin": null,
            "max_height": null,
            "max_width": null,
            "min_height": null,
            "min_width": null,
            "object_fit": null,
            "object_position": null,
            "order": null,
            "overflow": null,
            "overflow_x": null,
            "overflow_y": null,
            "padding": null,
            "right": null,
            "top": null,
            "visibility": null,
            "width": null
          }
        },
        "f0263d2e6592486b95aedcd6b9bbd912": {
          "model_module": "@jupyter-widgets/controls",
          "model_name": "DescriptionStyleModel",
          "model_module_version": "1.5.0",
          "state": {
            "_model_module": "@jupyter-widgets/controls",
            "_model_module_version": "1.5.0",
            "_model_name": "DescriptionStyleModel",
            "_view_count": null,
            "_view_module": "@jupyter-widgets/base",
            "_view_module_version": "1.2.0",
            "_view_name": "StyleView",
            "description_width": ""
          }
        }
      }
    }
  },
  "cells": [
    {
      "cell_type": "markdown",
      "metadata": {
        "id": "view-in-github",
        "colab_type": "text"
      },
      "source": [
        "<a href=\"https://colab.research.google.com/github/multitude00999/hf_audio_course/blob/main/notebooks/unit1/load_audio_data.ipynb\" target=\"_parent\"><img src=\"https://colab.research.google.com/assets/colab-badge.svg\" alt=\"Open In Colab\"/></a>"
      ]
    },
    {
      "cell_type": "code",
      "execution_count": null,
      "metadata": {
        "id": "NA5TmfpAJaa1"
      },
      "outputs": [],
      "source": [
        "! pip install datasets[audio]\n",
        "! pip install gradio"
      ]
    },
    {
      "cell_type": "code",
      "source": [
        "from IPython.display import Audio\n",
        "from datasets import load_dataset\n",
        "import gradio as gr\n",
        "import librosa\n",
        "import matplotlib.pyplot as plt\n",
        "import librosa.display"
      ],
      "metadata": {
        "id": "ZQBBzHR5KsxY"
      },
      "execution_count": 19,
      "outputs": []
    },
    {
      "cell_type": "code",
      "source": [
        "\n",
        "minds = load_dataset(\"PolyAI/minds14\", name=\"fr-FR\", split=\"train\")\n",
        "minds"
      ],
      "metadata": {
        "colab": {
          "base_uri": "https://localhost:8080/",
          "height": 144,
          "referenced_widgets": [
            "cb794911c6bf4322b63bdb27f9a285fe",
            "4ecd1890627e44b89478f6153c1df7c8",
            "f115e4a6e44848cdb1c00262dff10966",
            "87e892a5d3d7429a8dfc091b46ac0021",
            "711d42f284fc4af99abc0c4ba253e520",
            "d3ee05d56be04ef0bd4e1ca20de522f7",
            "42830c0533cb4fccb19d84e49449b632",
            "af503b24dbae48a68ae0ac7e592288c6",
            "8a5a50f94cf7460c9ccd4e7345e672e4",
            "ada66626e4654a9e9582b2d2ae9b1952",
            "f0263d2e6592486b95aedcd6b9bbd912"
          ]
        },
        "id": "w3OOGFyUJfr-",
        "outputId": "2dc4fb37-8888-455d-9cba-79e6f6830928"
      },
      "execution_count": 21,
      "outputs": [
        {
          "output_type": "stream",
          "name": "stdout",
          "text": [
            "Downloading and preparing dataset minds14/fr-FR to /root/.cache/huggingface/datasets/PolyAI___minds14/fr-FR/1.0.0/65c7e0f3be79e18a6ffaf879a083daf706312d421ac90d25718459cbf3c42696...\n"
          ]
        },
        {
          "output_type": "display_data",
          "data": {
            "text/plain": [
              "Generating train split: 0 examples [00:00, ? examples/s]"
            ],
            "application/vnd.jupyter.widget-view+json": {
              "version_major": 2,
              "version_minor": 0,
              "model_id": "cb794911c6bf4322b63bdb27f9a285fe"
            }
          },
          "metadata": {}
        },
        {
          "output_type": "stream",
          "name": "stdout",
          "text": [
            "Dataset minds14 downloaded and prepared to /root/.cache/huggingface/datasets/PolyAI___minds14/fr-FR/1.0.0/65c7e0f3be79e18a6ffaf879a083daf706312d421ac90d25718459cbf3c42696. Subsequent calls will reuse this data.\n"
          ]
        },
        {
          "output_type": "execute_result",
          "data": {
            "text/plain": [
              "Dataset({\n",
              "    features: ['path', 'audio', 'transcription', 'english_transcription', 'intent_class', 'lang_id'],\n",
              "    num_rows: 539\n",
              "})"
            ]
          },
          "metadata": {},
          "execution_count": 21
        }
      ]
    },
    {
      "cell_type": "code",
      "source": [
        "example = minds[0]\n",
        "example"
      ],
      "metadata": {
        "colab": {
          "base_uri": "https://localhost:8080/"
        },
        "id": "Jvl-QFE0JyFW",
        "outputId": "a54a6e9c-2e3e-438b-8383-43d36134617c"
      },
      "execution_count": 22,
      "outputs": [
        {
          "output_type": "execute_result",
          "data": {
            "text/plain": [
              "{'path': '/root/.cache/huggingface/datasets/downloads/extracted/a19fbc5032eacf25eab0097832db7b7f022b42104fbad6bd5765527704a428b9/fr-FR~ADDRESS/response_4.wav',\n",
              " 'audio': {'path': '/root/.cache/huggingface/datasets/downloads/extracted/a19fbc5032eacf25eab0097832db7b7f022b42104fbad6bd5765527704a428b9/fr-FR~ADDRESS/response_4.wav',\n",
              "  'array': array([ 0.        ,  0.        ,  0.        , ...,  0.        ,\n",
              "          0.00048828, -0.00024414]),\n",
              "  'sampling_rate': 8000},\n",
              " 'transcription': 'je souhaite changer mon adresse',\n",
              " 'english_transcription': 'I want to change my address',\n",
              " 'intent_class': 1,\n",
              " 'lang_id': 6}"
            ]
          },
          "metadata": {},
          "execution_count": 22
        }
      ]
    },
    {
      "cell_type": "code",
      "source": [
        "id2label = minds.features[\"intent_class\"].int2str\n",
        "id2label(example[\"intent_class\"])"
      ],
      "metadata": {
        "colab": {
          "base_uri": "https://localhost:8080/",
          "height": 35
        },
        "id": "TtqZaa6cJ_h7",
        "outputId": "8bab8b5f-e7cb-4aea-ecfa-86bf081de840"
      },
      "execution_count": 23,
      "outputs": [
        {
          "output_type": "execute_result",
          "data": {
            "text/plain": [
              "'address'"
            ],
            "application/vnd.google.colaboratory.intrinsic+json": {
              "type": "string"
            }
          },
          "metadata": {},
          "execution_count": 23
        }
      ]
    },
    {
      "cell_type": "code",
      "source": [
        "Audio(data = example['audio']['array'], rate = example['audio']['sampling_rate'])"
      ],
      "metadata": {
        "colab": {
          "base_uri": "https://localhost:8080/",
          "height": 75
        },
        "id": "iq7GrHWyKOgk",
        "outputId": "d7c5eb04-8092-41e0-f05a-210a4c0161d9"
      },
      "execution_count": 24,
      "outputs": [
        {
          "output_type": "execute_result",
          "data": {
            "text/plain": [
              "<IPython.lib.display.Audio object>"
            ],
            "text/html": [
              "\n",
              "                <audio  controls=\"controls\" >\n",
              "                    <source src=\"data:audio/wav;base64,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\" type=\"audio/wav\" />\n",
              "                    Your browser does not support the audio element.\n",
              "                </audio>\n",
              "              "
            ]
          },
          "metadata": {},
          "execution_count": 24
        }
      ]
    },
    {
      "cell_type": "code",
      "source": [
        "columns_to_remove = [\"lang_id\", \"english_transcription\"]\n",
        "minds = minds.remove_columns(columns_to_remove)\n",
        "minds"
      ],
      "metadata": {
        "colab": {
          "base_uri": "https://localhost:8080/"
        },
        "id": "tDNvTvhMK72g",
        "outputId": "d75eecd6-0f86-4581-aa88-2aee6eb9f021"
      },
      "execution_count": 25,
      "outputs": [
        {
          "output_type": "execute_result",
          "data": {
            "text/plain": [
              "Dataset({\n",
              "    features: ['path', 'audio', 'transcription', 'intent_class'],\n",
              "    num_rows: 539\n",
              "})"
            ]
          },
          "metadata": {},
          "execution_count": 25
        }
      ]
    },
    {
      "cell_type": "code",
      "source": [
        "def generate_audio():\n",
        "    example = minds.shuffle()[0]\n",
        "    audio = example[\"audio\"]\n",
        "    return (\n",
        "        audio[\"sampling_rate\"],\n",
        "        audio[\"array\"],\n",
        "    ), id2label(example[\"intent_class\"])\n",
        "\n",
        "\n",
        "with gr.Blocks() as demo:\n",
        "    with gr.Column():\n",
        "        for _ in range(4):\n",
        "            audio, label = generate_audio()\n",
        "            output = gr.Audio(audio, label=label)\n",
        "\n",
        "demo.launch(debug=True)"
      ],
      "metadata": {
        "colab": {
          "base_uri": "https://localhost:8080/",
          "height": 671
        },
        "id": "40FAMehmLO0F",
        "outputId": "e4e48663-d790-41e5-bec4-53ef2724cdfb"
      },
      "execution_count": 26,
      "outputs": [
        {
          "output_type": "stream",
          "name": "stderr",
          "text": [
            "/usr/local/lib/python3.10/dist-packages/gradio/processing_utils.py:171: UserWarning: Trying to convert audio automatically from float64 to 16-bit int format.\n",
            "  warnings.warn(warning.format(data.dtype))\n"
          ]
        },
        {
          "output_type": "stream",
          "name": "stdout",
          "text": [
            "Colab notebook detected. This cell will run indefinitely so that you can see errors and logs. To turn off, set debug=False in launch().\n",
            "Note: opening Chrome Inspector may crash demo inside Colab notebooks.\n",
            "\n",
            "To create a public link, set `share=True` in `launch()`.\n"
          ]
        },
        {
          "output_type": "display_data",
          "data": {
            "text/plain": [
              "<IPython.core.display.Javascript object>"
            ],
            "application/javascript": [
              "(async (port, path, width, height, cache, element) => {\n",
              "                        if (!google.colab.kernel.accessAllowed && !cache) {\n",
              "                            return;\n",
              "                        }\n",
              "                        element.appendChild(document.createTextNode(''));\n",
              "                        const url = await google.colab.kernel.proxyPort(port, {cache});\n",
              "\n",
              "                        const external_link = document.createElement('div');\n",
              "                        external_link.innerHTML = `\n",
              "                            <div style=\"font-family: monospace; margin-bottom: 0.5rem\">\n",
              "                                Running on <a href=${new URL(path, url).toString()} target=\"_blank\">\n",
              "                                    https://localhost:${port}${path}\n",
              "                                </a>\n",
              "                            </div>\n",
              "                        `;\n",
              "                        element.appendChild(external_link);\n",
              "\n",
              "                        const iframe = document.createElement('iframe');\n",
              "                        iframe.src = new URL(path, url).toString();\n",
              "                        iframe.height = height;\n",
              "                        iframe.allow = \"autoplay; camera; microphone; clipboard-read; clipboard-write;\"\n",
              "                        iframe.width = width;\n",
              "                        iframe.style.border = 0;\n",
              "                        element.appendChild(iframe);\n",
              "                    })(7860, \"/\", \"100%\", 500, false, window.element)"
            ]
          },
          "metadata": {}
        },
        {
          "output_type": "stream",
          "name": "stdout",
          "text": [
            "Keyboard interruption in main thread... closing server.\n"
          ]
        },
        {
          "output_type": "execute_result",
          "data": {
            "text/plain": []
          },
          "metadata": {},
          "execution_count": 26
        }
      ]
    },
    {
      "cell_type": "code",
      "source": [
        "array = example[\"audio\"][\"array\"]\n",
        "sampling_rate = example[\"audio\"][\"sampling_rate\"]\n",
        "\n",
        "plt.figure().set_figwidth(12)\n",
        "librosa.display.waveshow(array, sr=sampling_rate)"
      ],
      "metadata": {
        "colab": {
          "base_uri": "https://localhost:8080/",
          "height": 467
        },
        "id": "eEgTJXvkLWdI",
        "outputId": "56ea11c2-ba06-4aa8-d571-9636342d4089"
      },
      "execution_count": 27,
      "outputs": [
        {
          "output_type": "execute_result",
          "data": {
            "text/plain": [
              "<librosa.display.AdaptiveWaveplot at 0x7ff0f5ff4280>"
            ]
          },
          "metadata": {},
          "execution_count": 27
        },
        {
          "output_type": "display_data",
          "data": {
            "text/plain": [
              "<Figure size 1200x480 with 1 Axes>"
            ],
            "image/png": "[encoded data removed]"
          },
          "metadata": {}
        }
      ]
    },
    {
      "cell_type": "code",
      "source": [],
      "metadata": {
        "id": "VPlrspRXL28X"
      },
      "execution_count": null,
      "outputs": []
    }
  ]
}